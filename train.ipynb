{
 "cells": [
  {
   "cell_type": "code",
   "execution_count": null,
   "id": "e1472f93",
   "metadata": {},
   "outputs": [],
   "source": [
    "import sys\n",
    "# Make sure you are on Python 3.10\n",
    "print(sys.version)"
   ]
  },
  {
   "cell_type": "code",
   "execution_count": null,
   "id": "0c052550",
   "metadata": {},
   "outputs": [],
   "source": [
    "\"\"\"\n",
    "Importing Necessary Libraries\n",
    "\"\"\"\n",
    "\n",
    "# TensorFlow and tf.keras\n",
    "import os\n",
    "import tensorflow as tf\n",
    "from tensorflow import keras\n",
    "\n",
    "# Helper libraries\n",
    "import numpy as np\n",
    "import matplotlib.pyplot as plt\n",
    "\n",
    "# Make sure you are on Tensorflow 2.10\n",
    "print(tf.__version__)\n",
    "print(\"GPUs Available: \", tf.config.list_physical_devices('GPU'))"
   ]
  },
  {
   "cell_type": "code",
   "execution_count": null,
   "id": "7605f403",
   "metadata": {},
   "outputs": [],
   "source": [
    "from funnyimagenet import FunnyImageNet\n",
    "fn = FunnyImageNet('./data')\n",
    "train_images, train_labels, test_images, test_labels= fn.sets()\n",
    "print(f\"Train images shape: {train_images.shape}, Train labels shape: {train_labels.shape}\")\n",
    "print(f\"Test images shape: {test_images.shape}, Test labels shape: {test_labels.shape}\")"
   ]
  },
  {
   "cell_type": "code",
   "execution_count": null,
   "id": "0cf7840c",
   "metadata": {},
   "outputs": [],
   "source": [
    "# reshape for conv2d input\n",
    "train_images = train_images.reshape(-1, 80, 80, 3)\n",
    "test_images = test_images.reshape(-1, 80, 80, 3)\n",
    "# prepare labels as categorical\n",
    "train_labels.shape"
   ]
  },
  {
   "cell_type": "code",
   "execution_count": null,
   "id": "94f259fc",
   "metadata": {},
   "outputs": [],
   "source": [
    "from AI85Net5_tf import AI85Net5\n",
    "num_classes = 20 \n",
    "input_shape = (80, 80, 3)\n",
    "\n",
    "# Create an instance of the model\n",
    "model = AI85Net5(num_classes=num_classes, planes=60, dimensions=input_shape[:2], num_channels=input_shape[-1])\n",
    "\n",
    "# Build the model by passing input shape\n",
    "model.build(input_shape=(None,) + input_shape) # (None, 28, 28, 1)\n",
    "\n",
    "# Compile\n",
    "model.compile(optimizer='adam',\n",
    "              loss=tf.keras.losses.SparseCategoricalCrossentropy(),\n",
    "              metrics=['accuracy'])\n",
    "\n",
    "model.summary()"
   ]
  },
  {
   "cell_type": "code",
   "execution_count": null,
   "id": "19ea8064",
   "metadata": {},
   "outputs": [],
   "source": [
    "history = model.fit(train_images, train_labels, epochs=100, batch_size=128, validation_split=0.2)\n",
    "loss, acc = model.evaluate(test_images, test_labels)"
   ]
  },
  {
   "cell_type": "code",
   "execution_count": null,
   "id": "c9df9a47",
   "metadata": {},
   "outputs": [],
   "source": [
    "from AI85Funny_tf import AI85NASFunnyNetTFWithDropout\n",
    "num_classes = 20  \n",
    "input_shape = (80, 80, 3)\n",
    "\n",
    "# Create an instance of the model\n",
    "model = AI85NASFunnyNetTFWithDropout(num_classes=num_classes, dropout_rate_conv=.4, dropout_rate_dense=.7, bias=True)\n",
    "\n",
    "model.build(input_shape=(None,) + input_shape) # (None, 28, 28, 1)\n",
    "\n",
    "# Compile\n",
    "model.compile(optimizer='adam',\n",
    "              loss=tf.keras.losses.SparseCategoricalCrossentropy(from_logits=False), \n",
    "              metrics=['accuracy'])\n",
    "\n",
    "model.summary()"
   ]
  },
  {
   "cell_type": "code",
   "execution_count": null,
   "id": "f6d809fe",
   "metadata": {},
   "outputs": [],
   "source": [
    "history = model.fit(train_images, train_labels, epochs=25, batch_size=100, validation_split=0.2)\n",
    "loss, acc = model.evaluate(test_images, test_labels)"
   ]
  },
  {
   "cell_type": "code",
   "execution_count": null,
   "id": "a304a5ee",
   "metadata": {},
   "outputs": [],
   "source": [
    "model.save(\"funnyimagenet\", save_format=\"tf\")"
   ]
  }
 ],
 "metadata": {
  "kernelspec": {
   "display_name": "venv",
   "language": "python",
   "name": "python3"
  },
  "language_info": {
   "codemirror_mode": {
    "name": "ipython",
    "version": 3
   },
   "file_extension": ".py",
   "mimetype": "text/x-python",
   "name": "python",
   "nbconvert_exporter": "python",
   "pygments_lexer": "ipython3",
   "version": "3.10.11"
  }
 },
 "nbformat": 4,
 "nbformat_minor": 5
}
